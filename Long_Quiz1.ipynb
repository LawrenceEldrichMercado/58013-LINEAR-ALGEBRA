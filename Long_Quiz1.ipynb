{
  "nbformat": 4,
  "nbformat_minor": 0,
  "metadata": {
    "colab": {
      "provenance": [],
      "authorship_tag": "ABX9TyOxq1GCzfZMmvXEQSAc6eAQ",
      "include_colab_link": true
    },
    "kernelspec": {
      "name": "python3",
      "display_name": "Python 3"
    },
    "language_info": {
      "name": "python"
    }
  },
  "cells": [
    {
      "cell_type": "markdown",
      "metadata": {
        "id": "view-in-github",
        "colab_type": "text"
      },
      "source": [
        "<a href=\"https://colab.research.google.com/github/LawrenceEldrichMercado/58013-LINEAR-ALGEBRA/blob/main/Long_Quiz1.ipynb\" target=\"_parent\"><img src=\"https://colab.research.google.com/assets/colab-badge.svg\" alt=\"Open In Colab\"/></a>"
      ]
    },
    {
      "cell_type": "code",
      "execution_count": 1,
      "metadata": {
        "colab": {
          "base_uri": "https://localhost:8080/"
        },
        "id": "qM9epp0xjZ5a",
        "outputId": "1100343a-5ba5-41d0-99de-d7b34722241c"
      },
      "outputs": [
        {
          "output_type": "stream",
          "name": "stdout",
          "text": [
            "AB:\n",
            "[[22 28]\n",
            " [49 64]]\n",
            "D + D:\n",
            "[[2 4]\n",
            " [6 8]]\n",
            "2C:\n",
            "[[ 2  4  6]\n",
            " [ 8 10 12]\n",
            " [14 16 18]]\n"
          ]
        }
      ],
      "source": [
        "import numpy as np\n",
        "A = np.array ([[1, 2, 3],\n",
        "              [4, 5, 6]])\n",
        "B = np.array ([[1,2],\n",
        "               [3, 4],\n",
        "               [5, 6]])\n",
        "AB = np.dot(A, B)\n",
        "\n",
        "D = np.array ([[1, 2],\n",
        "               [3, 4]])\n",
        "\n",
        "DD = D + D\n",
        "\n",
        "C = np.array ([[1, 2, 3],\n",
        "               [4, 5, 6],\n",
        "               [7, 8, 9]])\n",
        "two_C = 2 * C\n",
        "\n",
        "print(\"AB:\")\n",
        "print(AB)\n",
        "\n",
        "print (\"D + D:\")\n",
        "print(DD)\n",
        "\n",
        "print(\"2C:\")\n",
        "print(two_C)"
      ]
    },
    {
      "cell_type": "code",
      "source": [
        "import numpy as np\n",
        "\n",
        "A = np.array ([2, 7, 4])\n",
        "B = np.array ([3, 9, 8])\n",
        "\n",
        "cross_product = np.cross (A,B)\n",
        "\n",
        "print (\"Cross Product of A and B\")\n",
        "print(cross_product)"
      ],
      "metadata": {
        "colab": {
          "base_uri": "https://localhost:8080/"
        },
        "id": "40tZ7bHSlaM8",
        "outputId": "d7877c17-34c0-4816-9499-b5bfb9ac8e6a"
      },
      "execution_count": 2,
      "outputs": [
        {
          "output_type": "stream",
          "name": "stdout",
          "text": [
            "Cross Product of A and B\n",
            "[20 -4 -3]\n"
          ]
        }
      ]
    }
  ]
}