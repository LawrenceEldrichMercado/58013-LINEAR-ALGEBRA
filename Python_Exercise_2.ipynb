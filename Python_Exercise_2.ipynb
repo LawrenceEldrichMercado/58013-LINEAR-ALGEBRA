{
  "nbformat": 4,
  "nbformat_minor": 0,
  "metadata": {
    "colab": {
      "provenance": [],
      "authorship_tag": "ABX9TyMYjIN26jS4lnHX+3YYlHf9",
      "include_colab_link": true
    },
    "kernelspec": {
      "name": "python3",
      "display_name": "Python 3"
    },
    "language_info": {
      "name": "python"
    }
  },
  "cells": [
    {
      "cell_type": "markdown",
      "metadata": {
        "id": "view-in-github",
        "colab_type": "text"
      },
      "source": [
        "<a href=\"https://colab.research.google.com/github/LawrenceEldrichMercado/58013-LINEAR-ALGEBRA/blob/main/Python_Exercise_2.ipynb\" target=\"_parent\"><img src=\"https://colab.research.google.com/assets/colab-badge.svg\" alt=\"Open In Colab\"/></a>"
      ]
    },
    {
      "cell_type": "code",
      "execution_count": 2,
      "metadata": {
        "colab": {
          "base_uri": "https://localhost:8080/"
        },
        "id": "nDw87Ub3noeA",
        "outputId": "efb3aa0c-c3b5-45be-9d4e-b26d6cdd60e6"
      },
      "outputs": [
        {
          "output_type": "execute_result",
          "data": {
            "text/plain": [
              "array(-0.5)"
            ]
          },
          "metadata": {},
          "execution_count": 2
        }
      ],
      "source": [
        "import numpy as np\n",
        "\n",
        "x = np.array(-0.5)\n",
        "x"
      ]
    },
    {
      "cell_type": "code",
      "source": [
        "A = np.array([4,3])\n",
        "B = np.array([2, -5])\n",
        "\n",
        "print(\"Vector A is\", A)\n",
        "print(\"Vector B is\", B)\n"
      ],
      "metadata": {
        "colab": {
          "base_uri": "https://localhost:8080/"
        },
        "id": "L5tIBcRJrlhQ",
        "outputId": "8e1ecefa-9614-48ce-b4a2-60f0423c94e3"
      },
      "execution_count": 3,
      "outputs": [
        {
          "output_type": "stream",
          "name": "stdout",
          "text": [
            "Vector A is [4 3]\n",
            "Vector B is [ 2 -5]\n"
          ]
        }
      ]
    },
    {
      "cell_type": "code",
      "source": [
        "import numpy as np\n",
        "\n",
        "# Describing shapes\n",
        "\n",
        "# Checking shapes\n",
        "# Shapes tell us how many rows and columns are there\n",
        "ball1 = np.array([1, 2, 3])\n",
        "ball2 = np.array([0, 1, -1])\n",
        "pool = np.array([[ball1, ball2]])\n",
        "\n",
        "print(\"Shape of 'pool':\", pool.shape)\n",
        "\n",
        "U = np.array([[1, 2], [2, 3]])\n",
        "print(\"Shape of 'U':\", U.shape)\n",
        "\n",
        "# Checking size\n",
        "# Array/Vector sizes tell us the total number of elements in the vector\n",
        "print(\"Size of 'U':\", U.size)\n",
        "\n",
        "# Checking dimensions\n",
        "# The dimensions or rank of a vector tell us how many dimensions are there for the vector\n",
        "print(\"Dimensions of 'A':\", A.ndim)\n",
        "print(\"Dimensions of 'pool':\", pool.ndim)"
      ],
      "metadata": {
        "colab": {
          "base_uri": "https://localhost:8080/"
        },
        "id": "hAAGFQfXroyJ",
        "outputId": "4eccf679-abd1-4499-c10b-00f4a78c798e"
      },
      "execution_count": 4,
      "outputs": [
        {
          "output_type": "stream",
          "name": "stdout",
          "text": [
            "Shape of 'pool': (1, 2, 3)\n",
            "Shape of 'U': (2, 2)\n",
            "Size of 'U': 4\n",
            "Dimensions of 'A': 1\n",
            "Dimensions of 'pool': 3\n"
          ]
        }
      ]
    }
  ]
}