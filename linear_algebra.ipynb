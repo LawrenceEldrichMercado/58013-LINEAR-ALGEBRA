{
  "nbformat": 4,
  "nbformat_minor": 0,
  "metadata": {
    "colab": {
      "provenance": [],
      "authorship_tag": "ABX9TyOa18c03iFx/p5VTZGW21cZ",
      "include_colab_link": true
    },
    "kernelspec": {
      "name": "python3",
      "display_name": "Python 3"
    },
    "language_info": {
      "name": "python"
    }
  },
  "cells": [
    {
      "cell_type": "markdown",
      "metadata": {
        "id": "view-in-github",
        "colab_type": "text"
      },
      "source": [
        "<a href=\"https://colab.research.google.com/github/LawrenceEldrichMercado/58013-LINEAR-ALGEBRA/blob/main/linear_algebra.ipynb\" target=\"_parent\"><img src=\"https://colab.research.google.com/assets/colab-badge.svg\" alt=\"Open In Colab\"/></a>"
      ]
    },
    {
      "cell_type": "markdown",
      "source": [
        "Python Indentation\n",
        "\n",
        "\n"
      ],
      "metadata": {
        "id": "C-LFQX-k_XvB"
      }
    },
    {
      "cell_type": "code",
      "source": [
        "if 5>2:\n",
        "  print(\"Five is greater than two!\")"
      ],
      "metadata": {
        "colab": {
          "base_uri": "https://localhost:8080/"
        },
        "id": "H9sCAX7V_fMH",
        "outputId": "4908d280-8b7f-4eaa-baf9-1f21606352a6"
      },
      "execution_count": null,
      "outputs": [
        {
          "output_type": "stream",
          "name": "stdout",
          "text": [
            "Five is greater than two!\n"
          ]
        }
      ]
    },
    {
      "cell_type": "markdown",
      "source": [
        "This is Comment"
      ],
      "metadata": {
        "id": "Fv1mpewA_2uR"
      }
    },
    {
      "cell_type": "code",
      "source": [
        "print(\"Hello, World\")"
      ],
      "metadata": {
        "colab": {
          "base_uri": "https://localhost:8080/"
        },
        "id": "oH8UFnvW_-mu",
        "outputId": "dbddaca1-f933-466a-fae0-bfa74cb5451f"
      },
      "execution_count": null,
      "outputs": [
        {
          "output_type": "stream",
          "name": "stdout",
          "text": [
            "Hello, World\n"
          ]
        }
      ]
    },
    {
      "cell_type": "markdown",
      "source": [
        "Python Variable"
      ],
      "metadata": {
        "id": "hkHOsWkUAGRI"
      }
    },
    {
      "cell_type": "code",
      "source": [
        "x=1\n",
        "a, b=0, -1\n",
        "a, b, c=0, -1, 2\n",
        "b=\"Sally\" #This is a Type of String"
      ],
      "metadata": {
        "id": "gzVOEBvFAO7_"
      },
      "execution_count": null,
      "outputs": []
    },
    {
      "cell_type": "markdown",
      "source": [
        "Casting"
      ],
      "metadata": {
        "id": "j8uK9wJSA8vn"
      }
    },
    {
      "cell_type": "code",
      "source": [
        "b=\"Sally\" #This is a Type of String\n",
        "b=int(4)\n",
        "print(b)\n",
        "\n",
        "b=float(4)\n",
        "print(b)"
      ],
      "metadata": {
        "colab": {
          "base_uri": "https://localhost:8080/"
        },
        "id": "akltfmIGBCLH",
        "outputId": "548bd812-abd5-4223-b6b8-f5e06da1284c"
      },
      "execution_count": null,
      "outputs": [
        {
          "output_type": "stream",
          "name": "stdout",
          "text": [
            "4\n",
            "4.0\n"
          ]
        }
      ]
    },
    {
      "cell_type": "markdown",
      "source": [
        "Type () Function"
      ],
      "metadata": {
        "id": "F5iMgP1qBTCw"
      }
    },
    {
      "cell_type": "code",
      "source": [
        "x=5\n",
        "y=\"John\"\n",
        "print(type(x))\n",
        "print(type(y))"
      ],
      "metadata": {
        "colab": {
          "base_uri": "https://localhost:8080/"
        },
        "id": "QGOoLefgBXsO",
        "outputId": "36e68cbb-5901-4dc1-b7bd-92565b6f3e65"
      },
      "execution_count": null,
      "outputs": [
        {
          "output_type": "stream",
          "name": "stdout",
          "text": [
            "<class 'int'>\n",
            "<class 'str'>\n"
          ]
        }
      ]
    },
    {
      "cell_type": "markdown",
      "source": [
        "\"Double Quotes\" or 'Single Quotes'"
      ],
      "metadata": {
        "id": "ZNNVwelZBpY3"
      }
    },
    {
      "cell_type": "code",
      "source": [
        "y=\"John\"\n",
        "y='John'"
      ],
      "metadata": {
        "id": "aNMBsX_3BwXi"
      },
      "execution_count": null,
      "outputs": []
    },
    {
      "cell_type": "markdown",
      "source": [
        "Case Sensitive"
      ],
      "metadata": {
        "id": "ZqPY_SUqB2NE"
      }
    },
    {
      "cell_type": "code",
      "source": [
        "a=4\n",
        "A=\"Sally\" #A will not overwrite a"
      ],
      "metadata": {
        "id": "qAMu3mRZB4Fl"
      },
      "execution_count": null,
      "outputs": []
    },
    {
      "cell_type": "markdown",
      "source": [
        "Multiple Variables"
      ],
      "metadata": {
        "id": "nIyxTqxFCXSW"
      }
    },
    {
      "cell_type": "code",
      "source": [
        "x,y,z=\"one\",\"two\",\"three\"\n",
        "print=(x)\n",
        "print=(y)\n",
        "print=(z)\n",
        "print=(x),(y),(z)\n",
        "print"
      ],
      "metadata": {
        "colab": {
          "base_uri": "https://localhost:8080/"
        },
        "id": "gC-Dd1o8CZ3E",
        "outputId": "eedf3009-2e2e-4d8d-b062-35ac714c8bdc"
      },
      "execution_count": null,
      "outputs": [
        {
          "output_type": "execute_result",
          "data": {
            "text/plain": [
              "('one', 'two', 'three')"
            ]
          },
          "metadata": {},
          "execution_count": 35
        }
      ]
    },
    {
      "cell_type": "markdown",
      "source": [
        "One Value to Multiple Variables"
      ],
      "metadata": {
        "id": "pGxn4ZBjDb0h"
      }
    },
    {
      "cell_type": "code",
      "source": [
        "x=y=z=\"four\"\n",
        "print=(x)\n",
        "print=(y)\n",
        "print=(z)\n",
        "print"
      ],
      "metadata": {
        "colab": {
          "base_uri": "https://localhost:8080/",
          "height": 35
        },
        "id": "lc_ZaV12D5fx",
        "outputId": "91f52233-872f-4356-b4c3-fd9d386f0c2c"
      },
      "execution_count": null,
      "outputs": [
        {
          "output_type": "execute_result",
          "data": {
            "text/plain": [
              "'four'"
            ],
            "application/vnd.google.colaboratory.intrinsic+json": {
              "type": "string"
            }
          },
          "metadata": {},
          "execution_count": 31
        }
      ]
    },
    {
      "cell_type": "markdown",
      "source": [
        "Output Variables"
      ],
      "metadata": {
        "id": "yw2O1zS_Fojw"
      }
    },
    {
      "cell_type": "code",
      "source": [
        "x=\"enjoying\"\n",
        "print=\"Python Programming is\"+ x\n",
        "print"
      ],
      "metadata": {
        "colab": {
          "base_uri": "https://localhost:8080/",
          "height": 35
        },
        "id": "iwbLxyOkFtdy",
        "outputId": "112196b5-36b9-479f-e538-36e82e197f49"
      },
      "execution_count": null,
      "outputs": [
        {
          "output_type": "execute_result",
          "data": {
            "text/plain": [
              "'Python Programming isenjoying'"
            ],
            "application/vnd.google.colaboratory.intrinsic+json": {
              "type": "string"
            }
          },
          "metadata": {},
          "execution_count": 49
        }
      ]
    },
    {
      "cell_type": "markdown",
      "source": [
        "Other Way"
      ],
      "metadata": {
        "id": "w9ixDUdCGNvC"
      }
    },
    {
      "cell_type": "code",
      "source": [
        "x=\"Python is\"\n",
        "y=\"enjoying\"\n",
        "z=x+y\n",
        "print=(x+y)"
      ],
      "metadata": {
        "id": "mV_AxXd2GZi9"
      },
      "execution_count": null,
      "outputs": []
    },
    {
      "cell_type": "markdown",
      "source": [
        "Arithmetic Operation"
      ],
      "metadata": {
        "id": "ENwtgJGUGmcE"
      }
    },
    {
      "cell_type": "code",
      "source": [
        "x=5\n",
        "y=3\n",
        "print=(x+y)\n",
        "\n",
        "x=5\n",
        "y=3\n",
        "sum=x+y\n",
        "sum"
      ],
      "metadata": {
        "colab": {
          "base_uri": "https://localhost:8080/"
        },
        "id": "JuZOBbAiHATz",
        "outputId": "9e0d725d-dc27-47b0-9de5-a5ed55c2145e"
      },
      "execution_count": null,
      "outputs": [
        {
          "output_type": "execute_result",
          "data": {
            "text/plain": [
              "8"
            ]
          },
          "metadata": {},
          "execution_count": 29
        }
      ]
    },
    {
      "cell_type": "markdown",
      "source": [
        "Assignment Operator"
      ],
      "metadata": {
        "id": "HTTrGElNKUER"
      }
    },
    {
      "cell_type": "code",
      "source": [
        "a,b,c=0, -1,6\n",
        "c%=3\n",
        "c"
      ],
      "metadata": {
        "colab": {
          "base_uri": "https://localhost:8080/"
        },
        "id": "cyz_5etuKXI4",
        "outputId": "7f3685ed-9bb5-438c-ce9b-7105672c252f"
      },
      "execution_count": null,
      "outputs": [
        {
          "output_type": "execute_result",
          "data": {
            "text/plain": [
              "0"
            ]
          },
          "metadata": {},
          "execution_count": 51
        }
      ]
    },
    {
      "cell_type": "markdown",
      "source": [
        "Comparison Operator and Logical Operator"
      ],
      "metadata": {
        "id": "qt6MdAx1KgqN"
      }
    },
    {
      "cell_type": "code",
      "source": [
        "a,b,c=0,-1,6\n",
        "a>b and c>b\n",
        "True"
      ],
      "metadata": {
        "colab": {
          "base_uri": "https://localhost:8080/"
        },
        "id": "R2IU46-HKqXF",
        "outputId": "488146f5-7bc3-46bb-ff9d-b6f6f33b22e0"
      },
      "execution_count": null,
      "outputs": [
        {
          "output_type": "execute_result",
          "data": {
            "text/plain": [
              "True"
            ]
          },
          "metadata": {},
          "execution_count": 52
        }
      ]
    },
    {
      "cell_type": "markdown",
      "source": [
        "Identify Operator"
      ],
      "metadata": {
        "id": "e9INN4iDK1fI"
      }
    },
    {
      "cell_type": "code",
      "source": [
        "a,b,c=0,-1,5\n",
        "a is c\n",
        "False"
      ],
      "metadata": {
        "colab": {
          "base_uri": "https://localhost:8080/"
        },
        "id": "9x3PShY0K5LS",
        "outputId": "1781712d-e870-492a-9aa7-3dfe4b8858cf"
      },
      "execution_count": null,
      "outputs": [
        {
          "output_type": "execute_result",
          "data": {
            "text/plain": [
              "False"
            ]
          },
          "metadata": {},
          "execution_count": 53
        }
      ]
    },
    {
      "cell_type": "markdown",
      "source": [
        "Bitwise Operator"
      ],
      "metadata": {
        "id": "YjncPOBiK_jQ"
      }
    },
    {
      "cell_type": "code",
      "source": [
        "a,b,c=0,-1,5\n",
        "c>>5\n",
        "0"
      ],
      "metadata": {
        "colab": {
          "base_uri": "https://localhost:8080/"
        },
        "id": "9s7MKV_qLB2F",
        "outputId": "f5c74755-7d99-4338-eb25-e604844e6598"
      },
      "execution_count": null,
      "outputs": [
        {
          "output_type": "execute_result",
          "data": {
            "text/plain": [
              "0"
            ]
          },
          "metadata": {},
          "execution_count": 54
        }
      ]
    }
  ]
}