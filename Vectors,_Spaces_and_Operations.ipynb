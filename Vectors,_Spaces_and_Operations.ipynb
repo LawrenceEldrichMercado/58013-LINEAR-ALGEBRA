{
  "nbformat": 4,
  "nbformat_minor": 0,
  "metadata": {
    "colab": {
      "provenance": [],
      "authorship_tag": "ABX9TyPO6afDGG3z2DBdxVQW0ZUM",
      "include_colab_link": true
    },
    "kernelspec": {
      "name": "python3",
      "display_name": "Python 3"
    },
    "language_info": {
      "name": "python"
    }
  },
  "cells": [
    {
      "cell_type": "markdown",
      "metadata": {
        "id": "view-in-github",
        "colab_type": "text"
      },
      "source": [
        "<a href=\"https://colab.research.google.com/github/LawrenceEldrichMercado/58013-LINEAR-ALGEBRA/blob/main/Vectors%2C_Spaces_and_Operations.ipynb\" target=\"_parent\"><img src=\"https://colab.research.google.com/assets/colab-badge.svg\" alt=\"Open In Colab\"/></a>"
      ]
    },
    {
      "cell_type": "code",
      "execution_count": 1,
      "metadata": {
        "colab": {
          "base_uri": "https://localhost:8080/"
        },
        "id": "UHDVwGP-2x1-",
        "outputId": "ebb95cc8-ef97-41d5-d245-2465082cbe12"
      },
      "outputs": [
        {
          "output_type": "stream",
          "name": "stdout",
          "text": [
            "Vector A is [4 3]\n",
            "Vector B is [ 2 -5]\n"
          ]
        }
      ],
      "source": [
        "import numpy as np\n",
        "\n",
        "A=np.array([4,3])\n",
        "B=np.array([2,-5])\n",
        "\n",
        "print('Vector A is',A)\n",
        "print('Vector B is',B)"
      ]
    },
    {
      "cell_type": "code",
      "source": [
        "import numpy as np\n",
        "#Size Dimension, Size\n",
        "### Checking shapes\n",
        "### Shapes tells us how many rows and columns are there\n",
        "ball1=np.array([1,2,3])\n",
        "ball2=np.array([0,1,-1])\n",
        "print(ball1)\n",
        "print(ball2)\n",
        "#ball= np.shape([[ball1],[ball2]])\n",
        "ball=np.shape(ball1)\n",
        "balls=np.shape(ball2)\n",
        "z= ball+balls\n",
        "print(z)"
      ],
      "metadata": {
        "colab": {
          "base_uri": "https://localhost:8080/"
        },
        "id": "DiE-nujb26vR",
        "outputId": "e337bb69-fe07-44ec-e3c4-9a1502c330a3"
      },
      "execution_count": 2,
      "outputs": [
        {
          "output_type": "stream",
          "name": "stdout",
          "text": [
            "[1 2 3]\n",
            "[ 0  1 -1]\n",
            "(3, 3)\n"
          ]
        }
      ]
    },
    {
      "cell_type": "code",
      "source": [
        "#Addition\n",
        "import numpy as np\n",
        "A= np.array([4,3])\n",
        "B=([2,-5])\n",
        "R= np.add(A,B)\n",
        "print(R)"
      ],
      "metadata": {
        "colab": {
          "base_uri": "https://localhost:8080/"
        },
        "id": "Blm1UIXq29aV",
        "outputId": "27339dc0-a6c8-4319-86bc-3711b627b71a"
      },
      "execution_count": 3,
      "outputs": [
        {
          "output_type": "stream",
          "name": "stdout",
          "text": [
            "[ 6 -2]\n"
          ]
        }
      ]
    },
    {
      "cell_type": "code",
      "source": [
        "#Subtraction\n",
        "import numpy as np\n",
        "A= np.array([4,3])\n",
        "B=([2,-5])\n",
        "R1= np.subtract(A,B)\n",
        "print(R1)\n",
        "R2= np.subtract(B,A)\n",
        "print(R2)"
      ],
      "metadata": {
        "colab": {
          "base_uri": "https://localhost:8080/"
        },
        "id": "pX4AIToz2_Ht",
        "outputId": "d5d3c6ea-1e71-492f-da7c-857f4eca5940"
      },
      "execution_count": 5,
      "outputs": [
        {
          "output_type": "stream",
          "name": "stdout",
          "text": [
            "[2 8]\n",
            "[-2 -8]\n"
          ]
        }
      ]
    },
    {
      "cell_type": "code",
      "source": [
        "#Scalar Product\n",
        "import numpy as np\n",
        "S= np.array([2])\n",
        "V= S*A\n",
        "print(V)"
      ],
      "metadata": {
        "colab": {
          "base_uri": "https://localhost:8080/"
        },
        "id": "02MaM_M03ESd",
        "outputId": "52352607-c066-4cb0-8466-db336276cec5"
      },
      "execution_count": 6,
      "outputs": [
        {
          "output_type": "stream",
          "name": "stdout",
          "text": [
            "[8 6]\n"
          ]
        }
      ]
    },
    {
      "cell_type": "code",
      "source": [
        "#Dot Product\n",
        "import numpy as np\n",
        "a= np.array([2])\n",
        "b= np.array([4])\n",
        "c= np.dot(a,b)\n",
        "print(c)\n"
      ],
      "metadata": {
        "colab": {
          "base_uri": "https://localhost:8080/"
        },
        "id": "zZfTcJnD3EbF",
        "outputId": "93b6c765-e422-4ffa-db4f-5ef3f040e30f"
      },
      "execution_count": 7,
      "outputs": [
        {
          "output_type": "stream",
          "name": "stdout",
          "text": [
            "8\n"
          ]
        }
      ]
    },
    {
      "cell_type": "code",
      "source": [
        "#Property of Matrix\n",
        "#Identity of Matrix\n",
        "\n",
        "c= np.eye (3,3)\n",
        "print(c)\n",
        "\n",
        "#Zero Matrix\n",
        "d= np.zeros([5,5])\n",
        "print(d)\n",
        "#Full Matrix\n",
        "e=np.full((3,3),7)\n",
        "print(e)\n",
        "#Transpose Matrix\n",
        "f= np.transpose(A)\n",
        "print(f)"
      ],
      "metadata": {
        "colab": {
          "base_uri": "https://localhost:8080/"
        },
        "id": "MZ4Q73NP3JHe",
        "outputId": "8bda0a32-7525-4ca1-9d00-1e1b5dc203f1"
      },
      "execution_count": 9,
      "outputs": [
        {
          "output_type": "stream",
          "name": "stdout",
          "text": [
            "[[1. 0. 0.]\n",
            " [0. 1. 0.]\n",
            " [0. 0. 1.]]\n",
            "[[0. 0. 0. 0. 0.]\n",
            " [0. 0. 0. 0. 0.]\n",
            " [0. 0. 0. 0. 0.]\n",
            " [0. 0. 0. 0. 0.]\n",
            " [0. 0. 0. 0. 0.]]\n",
            "[[7 7 7]\n",
            " [7 7 7]\n",
            " [7 7 7]]\n",
            "[4 3]\n"
          ]
        }
      ]
    }
  ]
}