{
  "nbformat": 4,
  "nbformat_minor": 0,
  "metadata": {
    "colab": {
      "provenance": [],
      "authorship_tag": "ABX9TyNAgX6qWNm8rDfYk0Ggazhu",
      "include_colab_link": true
    },
    "kernelspec": {
      "name": "python3",
      "display_name": "Python 3"
    },
    "language_info": {
      "name": "python"
    }
  },
  "cells": [
    {
      "cell_type": "markdown",
      "metadata": {
        "id": "view-in-github",
        "colab_type": "text"
      },
      "source": [
        "<a href=\"https://colab.research.google.com/github/LawrenceEldrichMercado/58013-LINEAR-ALGEBRA/blob/main/Prelim_Exam.ipynb\" target=\"_parent\"><img src=\"https://colab.research.google.com/assets/colab-badge.svg\" alt=\"Open In Colab\"/></a>"
      ]
    },
    {
      "cell_type": "markdown",
      "source": [
        "Question 1"
      ],
      "metadata": {
        "id": "YvYYE22a55hm"
      }
    },
    {
      "cell_type": "code",
      "source": [
        "import numpy as np\n",
        "#Multiplication\n",
        "# Define the range of numbers for the table (1 to 10)\n",
        "numbers = np.arange(1, 11)\n",
        "\n",
        "# Create a multiplication table using NumPy broadcasting\n",
        "table = np.multiply.outer(numbers, numbers)\n",
        "\n",
        "# Print the multiplication table\n",
        "for row in table:\n",
        "    print(\" \".join(f\"{num:2d}\" for num in row))"
      ],
      "metadata": {
        "colab": {
          "base_uri": "https://localhost:8080/"
        },
        "id": "e2zoYuij57bv",
        "outputId": "fe8cd713-05c4-4997-a0dc-ba6341145b3a"
      },
      "execution_count": null,
      "outputs": [
        {
          "output_type": "stream",
          "name": "stdout",
          "text": [
            " 1  2  3  4  5  6  7  8  9 10\n",
            " 2  4  6  8 10 12 14 16 18 20\n",
            " 3  6  9 12 15 18 21 24 27 30\n",
            " 4  8 12 16 20 24 28 32 36 40\n",
            " 5 10 15 20 25 30 35 40 45 50\n",
            " 6 12 18 24 30 36 42 48 54 60\n",
            " 7 14 21 28 35 42 49 56 63 70\n",
            " 8 16 24 32 40 48 56 64 72 80\n",
            " 9 18 27 36 45 54 63 72 81 90\n",
            "10 20 30 40 50 60 70 80 90 100\n"
          ]
        }
      ]
    },
    {
      "cell_type": "markdown",
      "source": [
        "Question 2"
      ],
      "metadata": {
        "id": "qe-OOwqh6B_-"
      }
    },
    {
      "cell_type": "code",
      "source": [
        "import numpy as np\n",
        "\n",
        "# Define the range of numbers for the table (1 to 10)\n",
        "numbers = np.arange(1, 11)\n",
        "\n",
        "# Create a multiplication table using NumPy broadcasting\n",
        "table = np.multiply.outer(numbers, numbers)\n",
        "\n",
        "# Double all the values in the table\n",
        "table_doubled = table * 2\n",
        "\n",
        "# Print the doubled multiplication table\n",
        "for row in table_doubled:\n",
        "    print(\" \".join(f\"{num:4d}\" for num in row))"
      ],
      "metadata": {
        "colab": {
          "base_uri": "https://localhost:8080/"
        },
        "id": "ujbNRk9E8svV",
        "outputId": "fe54af72-45b7-43ea-da0a-a64ec86dbdbc"
      },
      "execution_count": 9,
      "outputs": [
        {
          "output_type": "stream",
          "name": "stdout",
          "text": [
            "   2    4    6    8   10   12   14   16   18   20\n",
            "   4    8   12   16   20   24   28   32   36   40\n",
            "   6   12   18   24   30   36   42   48   54   60\n",
            "   8   16   24   32   40   48   56   64   72   80\n",
            "  10   20   30   40   50   60   70   80   90  100\n",
            "  12   24   36   48   60   72   84   96  108  120\n",
            "  14   28   42   56   70   84   98  112  126  140\n",
            "  16   32   48   64   80   96  112  128  144  160\n",
            "  18   36   54   72   90  108  126  144  162  180\n",
            "  20   40   60   80  100  120  140  160  180  200\n"
          ]
        }
      ]
    },
    {
      "cell_type": "markdown",
      "source": [
        "Question 3"
      ],
      "metadata": {
        "id": "k7QTz6lp6Hy-"
      }
    },
    {
      "cell_type": "code",
      "source": [
        "\n",
        "import numpy as np\n",
        "# Specify the size of the square matrix (e.g., 4x4)\n",
        "matrix_size = 4\n",
        "\n",
        "# Create an identity matrix using NumPy\n",
        "identity_matrix = np.eye(matrix_size)\n",
        "\n",
        "# Print the identity matrix\n",
        "print(identity_matrix)\n"
      ],
      "metadata": {
        "colab": {
          "base_uri": "https://localhost:8080/"
        },
        "id": "XHVG03GE6Jue",
        "outputId": "5572b112-9ee7-4b8f-e308-1b68264d4e60"
      },
      "execution_count": 5,
      "outputs": [
        {
          "output_type": "stream",
          "name": "stdout",
          "text": [
            "[[1. 0. 0. 0.]\n",
            " [0. 1. 0. 0.]\n",
            " [0. 0. 1. 0.]\n",
            " [0. 0. 0. 1.]]\n"
          ]
        }
      ]
    },
    {
      "cell_type": "markdown",
      "source": [
        "Question 4"
      ],
      "metadata": {
        "id": "t0fSygAr7mQf"
      }
    },
    {
      "cell_type": "code",
      "source": [
        "import numpy as np\n",
        "\n",
        "matrix = np.array([[1, 2, 3, 4],\n",
        "                   [5, 6, 7, 8],\n",
        "                   [9, 10, 11, 12]])\n",
        "\n",
        "print(matrix)"
      ],
      "metadata": {
        "colab": {
          "base_uri": "https://localhost:8080/"
        },
        "id": "oAiJnQWx7nws",
        "outputId": "c4d0f6e0-de52-40f6-eddd-e519330c4317"
      },
      "execution_count": 6,
      "outputs": [
        {
          "output_type": "stream",
          "name": "stdout",
          "text": [
            "[[ 1  2  3  4]\n",
            " [ 5  6  7  8]\n",
            " [ 9 10 11 12]]\n"
          ]
        }
      ]
    },
    {
      "cell_type": "markdown",
      "source": [
        "Question 5"
      ],
      "metadata": {
        "id": "AiVGmiIt74On"
      }
    },
    {
      "cell_type": "code",
      "source": [
        "import numpy as np\n",
        "\n",
        "# Define arrayOne and arrayTwo\n",
        "arrayOne = np.array([[5, 6, 9], [21, 18, 27]])\n",
        "arrayTwo = np.array([[15, 33, 24], [4, 7, 1]])\n",
        "\n",
        "# Add arrayOne and arrayTwo\n",
        "result_array = arrayOne + arrayTwo\n",
        "\n",
        "# Calculate the square of each element in the result array\n",
        "result_array_squared = np.square(result_array)\n",
        "\n",
        "print(\"Result Array (After Addition):\")\n",
        "print(result_array)\n",
        "\n",
        "print(\"\\nResult Array (After Squaring Each Element):\")\n",
        "print(result_array_squared)\n"
      ],
      "metadata": {
        "colab": {
          "base_uri": "https://localhost:8080/"
        },
        "id": "pAWxMCUb75pk",
        "outputId": "9bc4bb49-9e6e-4fb6-8044-c5afa4ff38e8"
      },
      "execution_count": 8,
      "outputs": [
        {
          "output_type": "stream",
          "name": "stdout",
          "text": [
            "Result Array (After Addition):\n",
            "[[20 39 33]\n",
            " [25 25 28]]\n",
            "\n",
            "Result Array (After Squaring Each Element):\n",
            "[[ 400 1521 1089]\n",
            " [ 625  625  784]]\n"
          ]
        }
      ]
    }
  ]
}