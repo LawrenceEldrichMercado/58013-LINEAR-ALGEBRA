{
  "nbformat": 4,
  "nbformat_minor": 0,
  "metadata": {
    "colab": {
      "provenance": [],
      "authorship_tag": "ABX9TyOtemS5POSGIyPp6ihuH60f",
      "include_colab_link": true
    },
    "kernelspec": {
      "name": "python3",
      "display_name": "Python 3"
    },
    "language_info": {
      "name": "python"
    }
  },
  "cells": [
    {
      "cell_type": "markdown",
      "metadata": {
        "id": "view-in-github",
        "colab_type": "text"
      },
      "source": [
        "<a href=\"https://colab.research.google.com/github/LawrenceEldrichMercado/58013-LINEAR-ALGEBRA/blob/main/Python_Exercise_9.ipynb\" target=\"_parent\"><img src=\"https://colab.research.google.com/assets/colab-badge.svg\" alt=\"Open In Colab\"/></a>"
      ]
    },
    {
      "cell_type": "code",
      "execution_count": 2,
      "metadata": {
        "colab": {
          "base_uri": "https://localhost:8080/"
        },
        "id": "T1Ti-1hR44kA",
        "outputId": "452d8ace-6f23-47ed-dde1-29035f6b5b59"
      },
      "outputs": [
        {
          "output_type": "execute_result",
          "data": {
            "text/plain": [
              "3.0000000000000004"
            ]
          },
          "metadata": {},
          "execution_count": 2
        }
      ],
      "source": [
        "# Matrix Algebra\n",
        "\n",
        "import numpy as np\n",
        "import matplotlib.pyplot as plt\n",
        "%matplotlib inline\n",
        "\n",
        "A = np.array([\n",
        "    [1,4],\n",
        "    [0,3]\n",
        "])\n",
        "np.linalg.det(A)\n"
      ]
    },
    {
      "cell_type": "code",
      "source": [
        "B = np.array([\n",
        "    [1,3,5,6],\n",
        "    [0,3,1,3],\n",
        "    [3,1,8,2],\n",
        "    [5,2,6,8]\n",
        "])\n",
        "np.linalg.det(B)"
      ],
      "metadata": {
        "colab": {
          "base_uri": "https://localhost:8080/"
        },
        "id": "WbT4SqCA7LOq",
        "outputId": "a074a45a-1197-4d6e-83d6-4ddf0f7d8640"
      },
      "execution_count": 3,
      "outputs": [
        {
          "output_type": "execute_result",
          "data": {
            "text/plain": [
              "-235.0000000000002"
            ]
          },
          "metadata": {},
          "execution_count": 3
        }
      ]
    },
    {
      "cell_type": "code",
      "source": [],
      "metadata": {
        "id": "Aeoae5AT7Noy"
      },
      "execution_count": null,
      "outputs": []
    }
  ]
}