{
  "nbformat": 4,
  "nbformat_minor": 0,
  "metadata": {
    "colab": {
      "provenance": [],
      "authorship_tag": "ABX9TyPLjO5UqEly2WDw/YzhitTB",
      "include_colab_link": true
    },
    "kernelspec": {
      "name": "python3",
      "display_name": "Python 3"
    },
    "language_info": {
      "name": "python"
    }
  },
  "cells": [
    {
      "cell_type": "markdown",
      "metadata": {
        "id": "view-in-github",
        "colab_type": "text"
      },
      "source": [
        "<a href=\"https://colab.research.google.com/github/LawrenceEldrichMercado/58013-LINEAR-ALGEBRA/blob/main/Python_Exercise_9.ipynb\" target=\"_parent\"><img src=\"https://colab.research.google.com/assets/colab-badge.svg\" alt=\"Open In Colab\"/></a>"
      ]
    },
    {
      "cell_type": "code",
      "execution_count": 1,
      "metadata": {
        "id": "rkfdPFYAY7u4"
      },
      "outputs": [],
      "source": [
        "import numpy as np\n",
        "import matplotlib.pyplot as plt\n",
        "%matplotlib inline"
      ]
    },
    {
      "cell_type": "markdown",
      "source": [
        "Prove and implement the remaining 6 matrix multiplication properties. You may create your own matrices in which their shapes should not be lower than (3,3). In your methodology, create individual flowcharts for each property and discuss the property you would then present your proofs or validity of your implementation in the results section by comparing your result to present functions from NumPy."
      ],
      "metadata": {
        "id": "RZj9I79zZNnv"
      }
    },
    {
      "cell_type": "code",
      "source": [
        "#Commutative\n",
        "C = np.array([\n",
        "    [5,4,1],\n",
        "    [4,2,3],\n",
        "    [9,0,3]\n",
        "])\n",
        "D = np.array([\n",
        "    [5,2,1],\n",
        "    [3,6,9],\n",
        "    [7,8,4]\n",
        "])\n",
        "print(np.dot(C,D))\n",
        "print(np.dot(D,C))\n",
        ""
      ],
      "metadata": {
        "colab": {
          "base_uri": "https://localhost:8080/"
        },
        "id": "gKV2w4SkZPiY",
        "outputId": "41454f5b-13c9-4260-d679-8a1b21e45ffd"
      },
      "execution_count": 2,
      "outputs": [
        {
          "output_type": "stream",
          "name": "stdout",
          "text": [
            "[[44 42 45]\n",
            " [47 44 34]\n",
            " [66 42 21]]\n",
            "[[ 42  24  14]\n",
            " [120  24  48]\n",
            " [103  44  43]]\n"
          ]
        }
      ]
    },
    {
      "cell_type": "code",
      "source": [
        "#Associative\n",
        "E = np.array([\n",
        "    [9,4,3],\n",
        "    [8,5,2],\n",
        "    [7,6,1]\n",
        "])\n",
        "F = np.array([\n",
        "    [5,0,7],\n",
        "    [8,5,2],\n",
        "    [6,1,9]\n",
        "])\n",
        "G = np.array([\n",
        "    [1,6,0],\n",
        "    [2,5,9],\n",
        "    [3,7,8]\n",
        "])\n",
        "print(np.dot(E, np.dot(F,G)))\n",
        "print(np.dot(np.dot(E,F), G))"
      ],
      "metadata": {
        "colab": {
          "base_uri": "https://localhost:8080/"
        },
        "id": "581jYPk2ZbxB",
        "outputId": "355180d9-ac85-417d-e5ca-b42839652143"
      },
      "execution_count": 3,
      "outputs": [
        {
          "output_type": "stream",
          "name": "stdout",
          "text": [
            "[[ 435 1371  991]\n",
            " [ 398 1275  915]\n",
            " [ 361 1179  839]]\n",
            "[[ 435 1371  991]\n",
            " [ 398 1275  915]\n",
            " [ 361 1179  839]]\n"
          ]
        }
      ]
    },
    {
      "cell_type": "code",
      "source": [
        "#Identity\n",
        "K = np.array([\n",
        "    [2,4,2],\n",
        "    [4,8,1],\n",
        "    [8,3,6]\n",
        "])\n",
        "L = np.array([\n",
        "    [5,8,9],\n",
        "    [1,6,1],\n",
        "    [8,7,5]\n",
        "])\n",
        "print(np.dot(K,L))"
      ],
      "metadata": {
        "colab": {
          "base_uri": "https://localhost:8080/"
        },
        "id": "mbp_AH4MZeXg",
        "outputId": "3bb7caef-c217-4067-d3af-1c772afc2f67"
      },
      "execution_count": 4,
      "outputs": [
        {
          "output_type": "stream",
          "name": "stdout",
          "text": [
            "[[ 30  54  32]\n",
            " [ 36  87  49]\n",
            " [ 91 124 105]]\n"
          ]
        }
      ]
    },
    {
      "cell_type": "code",
      "source": [
        "#Distributive\n",
        "H = np.array([\n",
        "    [1,0,6],\n",
        "    [1,2,4],\n",
        "    [9,4,8]\n",
        "])\n",
        "I = np.array([\n",
        "    [6,2,0],\n",
        "    [8,6,2],\n",
        "    [3,9,2]\n",
        "])\n",
        "J = np.array([\n",
        "    [2,4,8],\n",
        "    [3,2,9],\n",
        "    [8,9,1]\n",
        "])\n",
        "print(np.add(H, np.dot(I,J)))\n",
        "print(np.add(np.dot(H,I), J))"
      ],
      "metadata": {
        "colab": {
          "base_uri": "https://localhost:8080/"
        },
        "id": "ldA9li3_Zk3V",
        "outputId": "805c666e-f55f-4268-bb43-1a95b1dfcab0"
      },
      "execution_count": 5,
      "outputs": [
        {
          "output_type": "stream",
          "name": "stdout",
          "text": [
            "[[ 19  28  72]\n",
            " [ 51  64 124]\n",
            " [ 58  52 115]]\n",
            "[[ 26  60  20]\n",
            " [ 37  52  21]\n",
            " [118 123  25]]\n"
          ]
        }
      ]
    },
    {
      "cell_type": "code",
      "source": [
        "\n",
        "#Zero\n",
        "M = np.array([\n",
        "    [2,5,6],\n",
        "    [3,0,6],\n",
        "    [8,6,3]\n",
        "])\n",
        "N = np.array([\n",
        "    [0,0,0],\n",
        "    [0,0,0],\n",
        "    [0,0,0]\n",
        "])\n",
        "print(np.dot(M,N))\n",
        ""
      ],
      "metadata": {
        "colab": {
          "base_uri": "https://localhost:8080/"
        },
        "id": "J3z1xWjKZl5i",
        "outputId": "b7930b4a-65b9-45d9-beb1-55b2c8e2a7bd"
      },
      "execution_count": 6,
      "outputs": [
        {
          "output_type": "stream",
          "name": "stdout",
          "text": [
            "[[0 0 0]\n",
            " [0 0 0]\n",
            " [0 0 0]]\n"
          ]
        }
      ]
    },
    {
      "cell_type": "code",
      "source": [
        "#Dimension\n",
        "O = np.array([\n",
        "    [1,0,7],\n",
        "    [3,6,1]\n",
        "])\n",
        "P = np.array([\n",
        "    [3,1,],\n",
        "    [1,2,],\n",
        "    [6,3,]\n",
        "])\n",
        "print(np.dot(O,P))\n",
        "print(np.dot(P,O))\n"
      ],
      "metadata": {
        "colab": {
          "base_uri": "https://localhost:8080/"
        },
        "id": "xXw3KBC4ZoRl",
        "outputId": "fa535728-147b-40a1-eb6b-f8ba19f27325"
      },
      "execution_count": 7,
      "outputs": [
        {
          "output_type": "stream",
          "name": "stdout",
          "text": [
            "[[45 22]\n",
            " [21 18]]\n",
            "[[ 6  6 22]\n",
            " [ 7 12  9]\n",
            " [15 18 45]]\n"
          ]
        }
      ]
    }
  ]
}